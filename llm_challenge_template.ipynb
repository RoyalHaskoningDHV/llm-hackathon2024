{
  "nbformat": 4,
  "nbformat_minor": 0,
  "metadata": {
    "colab": {
      "provenance": [],
      "authorship_tag": "ABX9TyPhYneAmtKnRTV9OyIsURvx",
      "include_colab_link": true
    },
    "kernelspec": {
      "name": "python3",
      "display_name": "Python 3"
    },
    "language_info": {
      "name": "python"
    }
  },
  "cells": [
    {
      "cell_type": "markdown",
      "metadata": {
        "id": "view-in-github",
        "colab_type": "text"
      },
      "source": [
        "<a href=\"https://colab.research.google.com/github/sbuergers/llm-hackathon/blob/master/llm_challenge_template.ipynb\" target=\"_parent\"><img src=\"https://colab.research.google.com/assets/colab-badge.svg\" alt=\"Open In Colab\"/></a>"
      ]
    },
    {
      "cell_type": "markdown",
      "source": [
        "# Welcome to the Large Language Models Challenge!\n",
        "\n",
        "This is a template notebook. __Copy it__ and start hacking away if you like. We suggest removing the `_template` suffix and replacing it with your team name. If you do not have a team name yet, have a look below. There are already a few useful snippets of code that might help you in your quest, including a random team name generator!"
      ],
      "metadata": {
        "id": "vl4Qy5eOhH4_"
      }
    },
    {
      "cell_type": "code",
      "source": [
        "import random\n",
        "\n",
        "# Function to generate a random team name\n",
        "def generate_team_name():\n",
        "    adjectives = [\"Agile\", \"Brave\", \"Clever\", \"Daring\", \"Energetic\", \"Fearless\", \"Gallant\", \"Heroic\", \"Innovative\", \"Jovial\", \"Keen\", \"Loyal\", \"Mighty\", \"Noble\", \"Optimistic\", \"Persistent\", \"Quick\", \"Resilient\", \"Strong\", \"Tenacious\", \"Unyielding\", \"Valiant\", \"Wise\", \"Xenial\", \"Youthful\", \"Zealous\"]\n",
        "    nouns = [\"Antelopes\", \"Bears\", \"Cheetahs\", \"Dolphins\", \"Elephants\", \"Foxes\", \"Giraffes\", \"Hawks\", \"Iguanas\", \"Jaguars\", \"Kangaroos\", \"Lions\", \"Monkeys\", \"Nightingales\", \"Owls\", \"Penguins\", \"Quails\", \"Rabbits\", \"Snakes\", \"Tigers\", \"Unicorns\", \"Vultures\", \"Wolves\", \"Xiphosuran\", \"Yaks\", \"Zebras\"]\n",
        "    adjective = random.choice(adjectives)\n",
        "    noun = random.choice(nouns)\n",
        "    return adjective.lower() + \"_\" + noun.lower()\n",
        "\n",
        "# Generate a random team name\n",
        "team_name = generate_team_name()\n",
        "print(\"Generated team name: \", team_name)\n"
      ],
      "metadata": {
        "colab": {
          "base_uri": "https://localhost:8080/"
        },
        "id": "rEfibUJykXI8",
        "outputId": "5ddd8f41-aa98-46e8-c00c-fcdcc8ddb82c"
      },
      "execution_count": 3,
      "outputs": [
        {
          "output_type": "stream",
          "name": "stdout",
          "text": [
            "Generated team name:  noble_monkeys\n"
          ]
        }
      ]
    },
    {
      "cell_type": "markdown",
      "source": [
        "##Getting results from the classical machine learning model\n",
        "\n",
        "There are 5 models, one for each level of the hierarchy. You can select which one to query using the `level` parameter in the `get_model_output` function. Also have a look at the other parameters you can pass."
      ],
      "metadata": {
        "id": "NcGOCbSaqAk2"
      }
    },
    {
      "cell_type": "code",
      "source": [
        "import requests\n",
        "\n",
        "FUN_URL = \"https://cpvclassifier.azurewebsites.net/api/azfun_predict_cpv_light\"\n",
        "\n",
        "\n",
        "def get_model_output(tender_text: str, level: str, num_pred: int, service_filter: str) -> dict:\n",
        "    \"\"\"Get model output from API endpoint (see cpv repository for details).\n",
        "\n",
        "    Parameters\n",
        "    ----------\n",
        "    tender_text: str\n",
        "        The text for which to make predictions\n",
        "    level: str\n",
        "        The level at which to run the model (e.g. department or group).\n",
        "    num_pred : int\n",
        "        How many predictions to show (top `num_pred` predictions are shown)\n",
        "    service_filter : str\n",
        "        Users can select only `diensten` (services), `werken` (works),\n",
        "        `leveringen` (deliveries), or `diensten, leveringen, werken` (all).\n",
        "\n",
        "    Returns\n",
        "    -------\n",
        "    dict\n",
        "        A dictionary with the model output, can be coerced into a dataframe.\n",
        "    \"\"\"\n",
        "    payload = {\n",
        "        \"tender_text\": tender_text,\n",
        "        \"level\": level,\n",
        "        \"num_predictions\": num_pred,\n",
        "        \"service_filter\": service_filter,\n",
        "    }\n",
        "    response = requests.post(FUN_URL, params=payload)\n",
        "    output_dict = response.json()\n",
        "\n",
        "    return output_dict\n",
        "\n",
        "\n",
        "tender_text = \"Dit document is een officiële uitnodiging tot inschrijving voor de bouw van een nieuwe brug. De CPV-code voor deze aanbesteding is 45221100, wat overeenkomt met bruggenbouw en -herstel. Wij nodigen gekwalificeerde en ervaren bedrijven uit om hun voorstellen in te dienen voor dit spannende project.\"\n",
        "level = \"Omschrijving\"  # From highest to lowest: 'afdeling', 'groep', 'categorie', 'klasse', 'Omschrijving'\"\n",
        "results_dict = get_model_output(\n",
        "    tender_text=tender_text,\n",
        "    level=level,\n",
        "    num_pred=5,\n",
        "    service_filter=None,\n",
        ")\n",
        "print(results_dict.get(\"results\"))"
      ],
      "metadata": {
        "colab": {
          "base_uri": "https://localhost:8080/"
        },
        "id": "vZB1IZ6QlFsh",
        "outputId": "8b7c9bb9-b364-49de-9cf3-11b7a6c61c19"
      },
      "execution_count": 6,
      "outputs": [
        {
          "output_type": "stream",
          "name": "stdout",
          "text": [
            "{'CPV-code': {'631': '45233120-6', '646': '79000000-4', '474': '71242000-6', '130': '45233100-0', '527': '90919300-5'}, 'Omschrijving': {'631': 'Wegenbouwwerken', '646': 'Zakelijke dienstverlening: juridisch, marketing, consulting, drukkerij en beveiliging', '474': 'Project- en ontwerpvoorbereiding, kostenraming', '130': 'Bouwwerkzaamheden voor hoofdwegen en wegen', '527': 'Schoonmaken van scholen'}, 'Score': {'631': 0.002438464944395204, '646': 0.0021191854887598893, '474': 0.0018482626442439531, '130': 0.001817809503174387, '527': 0.0017991071263125358}, 'Type opdracht': {'631': 'werken', '646': 'diensten', '474': 'diensten', '130': 'werken', '527': 'diensten'}, 'important_words': {'631': 'bruggenbouw, officieel, project, spannend, in_dienen', '646': 'spannend, overeen_komen, project, bruggenbouw, bedrijf', '474': 'spannend, voorstel, inschrijving, project, nodig', '130': 'bruggenbouw, overeen_komen, brug, voorstel, nieuw', '527': 'officieel, ervaren, spannend, voorstel, in_dienen'}}\n"
          ]
        }
      ]
    },
    {
      "cell_type": "markdown",
      "source": [
        "## Why not scrape some additional info from the web?"
      ],
      "metadata": {
        "id": "Liknda-Hqffm"
      }
    },
    {
      "cell_type": "code",
      "execution_count": 1,
      "metadata": {
        "id": "MKHwEUtGgtNt"
      },
      "outputs": [],
      "source": [
        "from bs4 import BeautifulSoup\n",
        "import requests\n",
        "\n",
        "# Function to extract first text paragraph after first h2 tag from website.\n",
        "# (If you use https://cpvcodes.eu/en/{cpv_code}-cpv/, you get a detailed description for that code)\n",
        "def extract_text(url):\n",
        "    response = requests.get(url)\n",
        "    soup = BeautifulSoup(response.text, 'html.parser')\n",
        "\n",
        "    # Find the first <h2> tag\n",
        "    first_h2 = soup.find('h2')\n",
        "\n",
        "    if first_h2:\n",
        "        # Find the next <p> tag after the first <h2> tag\n",
        "        first_p_after_h2 = first_h2.find_next('p')\n",
        "        if first_p_after_h2:\n",
        "            return first_p_after_h2.text\n",
        "        else:\n",
        "            return \"No <p> tag found after the first <h2> tag.\"\n",
        "    else:\n",
        "        return \"No <h2> tag found in the webpage.\"\n",
        "\n",
        "\n",
        "# Test the function\n",
        "url = \"https://cpvcodes.eu/en/03211000-cpv/\"\n",
        "print(extract_text(url))"
      ]
    },
    {
      "cell_type": "code",
      "source": [],
      "metadata": {
        "colab": {
          "base_uri": "https://localhost:8080/"
        },
        "id": "Eq7voKtcg_yn",
        "outputId": "027f32b7-6597-4b37-827c-94be5fb41deb"
      },
      "execution_count": 2,
      "outputs": [
        {
          "output_type": "stream",
          "name": "stdout",
          "text": [
            "The Cereals category includes various types of grains that are commonly used as food sources. These grains are essential ingredients in many food products and are widely consumed worldwide. The subcategories within this category consist of Wheat, Maize (corn), Rice, Barley, Rye, Oats, Malt, and Grain products. Wheat is a versatile grain used in bread, pasta, and pastries. Maize is primarily used for animal feed and as a raw material for various food products. Rice is a staple food in many cultures and is consumed in various forms. Barley is often used in brewing and as a nutritious grain. Rye and oats are commonly used in bread, cereals, and other baked goods. Malt is a key ingredient in beer production. Grain products encompass a wide range of processed goods derived from grains, such as flour, cereals, and snacks.\n"
          ]
        }
      ]
    },
    {
      "cell_type": "code",
      "source": [],
      "metadata": {
        "id": "25B_EQh_hBZe"
      },
      "execution_count": null,
      "outputs": []
    }
  ]
}